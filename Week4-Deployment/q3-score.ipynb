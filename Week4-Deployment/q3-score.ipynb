{
 "cells": [
  {
   "cell_type": "code",
   "execution_count": 1,
   "id": "04cd1b13",
   "metadata": {},
   "outputs": [],
   "source": [
    "import pickle\n",
    "import pandas as pd"
   ]
  },
  {
   "cell_type": "code",
   "execution_count": 2,
   "id": "2e9066de",
   "metadata": {},
   "outputs": [],
   "source": [
    "# Read and Preprocess Data\n",
    "def read_data(filename):\n",
    "    df = pd.read_parquet(filename)\n",
    "    \n",
    "    df['duration'] = df.tpep_dropoff_datetime - df.tpep_pickup_datetime\n",
    "    df['duration'] = df.duration.dt.total_seconds() / 60\n",
    "\n",
    "    df = df[(df.duration >= 1) & (df.duration <= 60)].copy()\n",
    "\n",
    "    categorical = ['PULocationID', 'DOLocationID']\n",
    "    df[categorical] = df[categorical].fillna(-1).astype('int').astype('str')\n",
    "    \n",
    "    return df"
   ]
  },
  {
   "cell_type": "code",
   "execution_count": 3,
   "id": "5eda6f1e",
   "metadata": {},
   "outputs": [],
   "source": [
    "# Load the trained and saved model along with the feature engineering objects. \n",
    "def load_model():\n",
    "    with open('./homework/model.bin', 'rb') as f_in:\n",
    "        dv, model = pickle.load(f_in)\n",
    "    return dv, model"
   ]
  },
  {
   "cell_type": "code",
   "execution_count": 4,
   "id": "936437ca",
   "metadata": {},
   "outputs": [],
   "source": [
    "# Predict on Validation Data\n",
    "def predict(df):\n",
    "\n",
    "    dv, model = load_model()\n",
    "\n",
    "    categorical = ['PULocationID', 'DOLocationID']\n",
    "    dicts = df[categorical].to_dict(orient='records')\n",
    "    X_val = dv.transform(dicts)\n",
    "    y_pred = model.predict(X_val)\n",
    "\n",
    "    return y_pred"
   ]
  },
  {
   "cell_type": "code",
   "execution_count": 5,
   "id": "3778d861",
   "metadata": {},
   "outputs": [],
   "source": [
    "# Predict Ride data for selected month and year and find the mean prediction for that data\n",
    "def ride_prediction( year: int = 2022, month: int = 2):    \n",
    "    \n",
    "    # Input Data URL\n",
    "    input = f'https://d37ci6vzurychx.cloudfront.net/trip-data/yellow_tripdata_{year:04}-{month:02}.parquet'\n",
    "\n",
    "    print(f'Reading Data for the month:{month:02} of the year:{year:04} to predict the mean riding time\\n')\n",
    "    df = read_data(input)\n",
    "    print(f'Predicting...\\n')\n",
    "    pred_value = predict(df)\n",
    "    print(f'The predicted mean riding time for the month:{month:02} of the year:{year:04} is {round(pred_value.mean(),2)}')"
   ]
  },
  {
   "cell_type": "code",
   "execution_count": 6,
   "id": "d4ec8946",
   "metadata": {},
   "outputs": [
    {
     "name": "stdout",
     "output_type": "stream",
     "text": [
      "Reading Data for the month:02 of the year:2022 to predict the mean riding time\n",
      "\n",
      "Predicting...\n",
      "\n",
      "The predicted mean riding time for the month:02 of the year:2022 is 12.51\n"
     ]
    }
   ],
   "source": [
    "ride_prediction(year=2022, month=2)"
   ]
  },
  {
   "cell_type": "code",
   "execution_count": null,
   "id": "66abf939",
   "metadata": {},
   "outputs": [],
   "source": [
    "\n"
   ]
  }
 ],
 "metadata": {
  "kernelspec": {
   "display_name": "Python 3 (ipykernel)",
   "language": "python",
   "name": "python3"
  },
  "language_info": {
   "codemirror_mode": {
    "name": "ipython",
    "version": 3
   },
   "file_extension": ".py",
   "mimetype": "text/x-python",
   "name": "python",
   "nbconvert_exporter": "python",
   "pygments_lexer": "ipython3",
   "version": "3.9.16"
  }
 },
 "nbformat": 4,
 "nbformat_minor": 5
}
