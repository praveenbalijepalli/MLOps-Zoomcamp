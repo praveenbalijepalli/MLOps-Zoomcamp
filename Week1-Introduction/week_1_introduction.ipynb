{
 "cells": [
  {
   "cell_type": "markdown",
   "id": "7f6f88a1",
   "metadata": {},
   "source": [
    "Homework\n",
    "\n",
    "The goal of this homework is to train a simple model for predicting the duration of a ride - similar to what we did in this module."
   ]
  },
  {
   "cell_type": "code",
   "execution_count": 1,
   "id": "5e2d34af",
   "metadata": {},
   "outputs": [],
   "source": [
    "!wget -P ./data https://d37ci6vzurychx.cloudfront.net/trip-data/yellow_tripdata_2022-01.parquet -q"
   ]
  },
  {
   "cell_type": "code",
   "execution_count": 2,
   "id": "5565b9a8",
   "metadata": {},
   "outputs": [],
   "source": [
    "!wget -P ./data https://d37ci6vzurychx.cloudfront.net/trip-data/yellow_tripdata_2022-02.parquet -q"
   ]
  },
  {
   "cell_type": "markdown",
   "id": "b8b22422",
   "metadata": {},
   "source": [
    "Q1. Downloading the data\n",
    "\n",
    "We'll use the same NYC taxi dataset, but instead of \"Green Taxi Trip Records\", we'll use \"Yellow Taxi Trip Records\".\n",
    "\n",
    "Download the data for January and February 2022.\n",
    "\n",
    "Read the data for January. How many columns are there?\n",
    "\n",
    "- 16\n",
    "- 17\n",
    "- 18\n",
    "- **19**"
   ]
  },
  {
   "cell_type": "code",
   "execution_count": 3,
   "id": "c2f8e015",
   "metadata": {},
   "outputs": [],
   "source": [
    "import pandas as pd\n",
    "import matplotlib.pyplot as plt\n",
    "import seaborn as sns\n",
    "\n",
    "from sklearn.feature_extraction import DictVectorizer\n",
    "from sklearn.linear_model import LinearRegression\n",
    "\n",
    "from sklearn.metrics import mean_squared_error\n"
   ]
  },
  {
   "cell_type": "code",
   "execution_count": 4,
   "id": "0b258acf",
   "metadata": {},
   "outputs": [],
   "source": [
    "def data_import(path):    \n",
    "    df = pd.read_parquet(path) \n",
    "    return df"
   ]
  },
  {
   "cell_type": "code",
   "execution_count": 5,
   "id": "cb75c0d2",
   "metadata": {},
   "outputs": [],
   "source": [
    "path_jan = \"./data/yellow_tripdata_2022-01.parquet\"\n",
    "path_feb = \"./data/yellow_tripdata_2022-02.parquet\""
   ]
  },
  {
   "cell_type": "code",
   "execution_count": 6,
   "id": "3610d050",
   "metadata": {},
   "outputs": [
    {
     "name": "stdout",
     "output_type": "stream",
     "text": [
      "<class 'pandas.core.frame.DataFrame'>\n",
      "RangeIndex: 2463931 entries, 0 to 2463930\n",
      "Data columns (total 19 columns):\n",
      " #   Column                 Dtype         \n",
      "---  ------                 -----         \n",
      " 0   VendorID               int64         \n",
      " 1   tpep_pickup_datetime   datetime64[ns]\n",
      " 2   tpep_dropoff_datetime  datetime64[ns]\n",
      " 3   passenger_count        float64       \n",
      " 4   trip_distance          float64       \n",
      " 5   RatecodeID             float64       \n",
      " 6   store_and_fwd_flag     object        \n",
      " 7   PULocationID           int64         \n",
      " 8   DOLocationID           int64         \n",
      " 9   payment_type           int64         \n",
      " 10  fare_amount            float64       \n",
      " 11  extra                  float64       \n",
      " 12  mta_tax                float64       \n",
      " 13  tip_amount             float64       \n",
      " 14  tolls_amount           float64       \n",
      " 15  improvement_surcharge  float64       \n",
      " 16  total_amount           float64       \n",
      " 17  congestion_surcharge   float64       \n",
      " 18  airport_fee            float64       \n",
      "dtypes: datetime64[ns](2), float64(12), int64(4), object(1)\n",
      "memory usage: 357.2+ MB\n",
      "\n",
      "No. of columns: 19\n",
      "\n"
     ]
    }
   ],
   "source": [
    "df_jan = data_import(path_jan)\n",
    "df_jan.info()\n",
    "print(f\"\\nNo. of columns: {len(df_jan.columns)}\\n\")"
   ]
  },
  {
   "cell_type": "code",
   "execution_count": null,
   "id": "904894ff",
   "metadata": {},
   "outputs": [],
   "source": []
  },
  {
   "cell_type": "markdown",
   "id": "72c78aad",
   "metadata": {},
   "source": [
    "Q2. Computing duration\n",
    "\n",
    "Now let's compute the duration variable. It should contain the duration of a ride in minutes.\n",
    "\n",
    "What's the standard deviation of the trips duration in January?\n",
    "\n",
    "- 41.45\n",
    "- **46.45**\n",
    "- 51.45\n",
    "- 56.45"
   ]
  },
  {
   "cell_type": "code",
   "execution_count": 7,
   "id": "44403ab0",
   "metadata": {},
   "outputs": [],
   "source": [
    "def compute_duration_mins(df):\n",
    "    df[\"duration\"] = (df[\"tpep_dropoff_datetime\"] - df[\"tpep_pickup_datetime\"])\n",
    "    df[\"duration\"] = df.duration.apply(lambda x: x.total_seconds()/60)\n",
    "    return df"
   ]
  },
  {
   "cell_type": "code",
   "execution_count": 8,
   "id": "a65e1196",
   "metadata": {},
   "outputs": [],
   "source": [
    "df_jan = compute_duration_mins(df_jan)"
   ]
  },
  {
   "cell_type": "code",
   "execution_count": 9,
   "id": "aae5b89c",
   "metadata": {},
   "outputs": [
    {
     "data": {
      "text/plain": [
       "46.44530513776802"
      ]
     },
     "execution_count": 9,
     "metadata": {},
     "output_type": "execute_result"
    }
   ],
   "source": [
    "df_jan[\"duration\"].std()"
   ]
  },
  {
   "cell_type": "code",
   "execution_count": null,
   "id": "334dd57a",
   "metadata": {},
   "outputs": [],
   "source": []
  },
  {
   "cell_type": "markdown",
   "id": "34621214",
   "metadata": {},
   "source": [
    "Q3. Dropping outliers\n",
    "\n",
    "Next, we need to check the distribution of the duration variable. There are some outliers. Let's remove them and keep only the records where the duration was between 1 and 60 minutes (inclusive).\n",
    "\n",
    "What fraction of the records left after you dropped the outliers?\n",
    "\n",
    "- 90%\n",
    "- 92%\n",
    "- 95%\n",
    "- **98%**"
   ]
  },
  {
   "cell_type": "code",
   "execution_count": 10,
   "id": "f4283dd6",
   "metadata": {},
   "outputs": [],
   "source": [
    "def drop_outliers(df):\n",
    "    df = df[df['duration'].between(1, 60, inclusive='both')]\n",
    "    return df  "
   ]
  },
  {
   "cell_type": "code",
   "execution_count": 11,
   "id": "c1ba12f2",
   "metadata": {},
   "outputs": [],
   "source": [
    "df_jan_drop_outliers = drop_outliers(df_jan)"
   ]
  },
  {
   "cell_type": "code",
   "execution_count": 12,
   "id": "1c9f9887",
   "metadata": {},
   "outputs": [
    {
     "data": {
      "text/plain": [
       "98.27547930522405"
      ]
     },
     "execution_count": 12,
     "metadata": {},
     "output_type": "execute_result"
    }
   ],
   "source": [
    "(df_jan_drop_outliers.shape[0]/df_jan.shape[0])*100"
   ]
  },
  {
   "cell_type": "code",
   "execution_count": null,
   "id": "78fb229d",
   "metadata": {},
   "outputs": [],
   "source": []
  },
  {
   "cell_type": "markdown",
   "id": "e65283c2",
   "metadata": {},
   "source": [
    "Q4. One-hot encoding\n",
    "\n",
    "Let's apply one-hot encoding to the pickup and dropoff location IDs. We'll use only these two features for our model.\n",
    "\n",
    "    Turn the dataframe into a list of dictionaries\n",
    "    Fit a dictionary vectorizer\n",
    "    Get a feature matrix from it\n",
    "\n",
    "What's the dimensionality of this matrix (number of columns)?\n",
    "\n",
    "- 2\n",
    "- 155\n",
    "- 345\n",
    "- **515**\n",
    "- 715"
   ]
  },
  {
   "cell_type": "code",
   "execution_count": 13,
   "id": "bb1bd71e",
   "metadata": {},
   "outputs": [],
   "source": [
    "def select_transform_pickup_dropoff(df):\n",
    "    df_pickup_dropoff = df[[\"PULocationID\",\"DOLocationID\"]].astype('str')\n",
    "    return df_pickup_dropoff"
   ]
  },
  {
   "cell_type": "code",
   "execution_count": 14,
   "id": "5b65019d",
   "metadata": {},
   "outputs": [],
   "source": [
    "def one_hot_encode_train_data(df):\n",
    "\n",
    "    df_dicts = df.to_dict(orient='records')\n",
    "    dv = DictVectorizer()\n",
    "    df_dv = dv.fit_transform(df_dicts)\n",
    "    return df_dv, dv"
   ]
  },
  {
   "cell_type": "code",
   "execution_count": 15,
   "id": "17f0215b",
   "metadata": {},
   "outputs": [],
   "source": [
    "df_jan_pickup_dropoff = select_transform_pickup_dropoff(df_jan_drop_outliers)"
   ]
  },
  {
   "cell_type": "code",
   "execution_count": 16,
   "id": "82b81e43",
   "metadata": {},
   "outputs": [],
   "source": [
    "x_train, dv = one_hot_encode_train_data(df_jan_pickup_dropoff)"
   ]
  },
  {
   "cell_type": "code",
   "execution_count": 17,
   "id": "3fb55e88",
   "metadata": {},
   "outputs": [
    {
     "data": {
      "text/plain": [
       "(2421440, 515)"
      ]
     },
     "execution_count": 17,
     "metadata": {},
     "output_type": "execute_result"
    }
   ],
   "source": [
    "x_train.shape"
   ]
  },
  {
   "cell_type": "code",
   "execution_count": 18,
   "id": "441674ec",
   "metadata": {},
   "outputs": [],
   "source": [
    "y_train = df_jan_drop_outliers[\"duration\"].values"
   ]
  },
  {
   "cell_type": "code",
   "execution_count": 19,
   "id": "9b6815cc",
   "metadata": {},
   "outputs": [
    {
     "data": {
      "text/plain": [
       "(2421440,)"
      ]
     },
     "execution_count": 19,
     "metadata": {},
     "output_type": "execute_result"
    }
   ],
   "source": [
    "y_train.shape"
   ]
  },
  {
   "cell_type": "code",
   "execution_count": null,
   "id": "c29653e8",
   "metadata": {},
   "outputs": [],
   "source": []
  },
  {
   "cell_type": "markdown",
   "id": "a887833b",
   "metadata": {},
   "source": [
    "Q5. Training a model\n",
    "\n",
    "Now let's use the feature matrix from the previous step to train a model.\n",
    "\n",
    "    Train a plain linear regression model with default parameters\n",
    "    Calculate the RMSE of the model on the training data\n",
    "\n",
    "What's the RMSE on train?\n",
    "\n",
    "- **6.99**\n",
    "- 11.99\n",
    "- 16.99\n",
    "- 21.99"
   ]
  },
  {
   "cell_type": "code",
   "execution_count": 20,
   "id": "32aaa7e4",
   "metadata": {},
   "outputs": [],
   "source": [
    "lr = LinearRegression()\n",
    "model = lr.fit(x_train, y_train)\n"
   ]
  },
  {
   "cell_type": "code",
   "execution_count": 21,
   "id": "5df99be2",
   "metadata": {},
   "outputs": [
    {
     "data": {
      "text/plain": [
       "0.39734969363279327"
      ]
     },
     "execution_count": 21,
     "metadata": {},
     "output_type": "execute_result"
    }
   ],
   "source": [
    "model.score(x_train, y_train) "
   ]
  },
  {
   "cell_type": "code",
   "execution_count": 22,
   "id": "ab26dcfb",
   "metadata": {},
   "outputs": [],
   "source": [
    "y_train_pred = model.predict(x_train)"
   ]
  },
  {
   "cell_type": "code",
   "execution_count": 23,
   "id": "a76f8b1c",
   "metadata": {},
   "outputs": [
    {
     "name": "stdout",
     "output_type": "stream",
     "text": [
      "RMSE: 6.986190837370544\n"
     ]
    }
   ],
   "source": [
    "rmse = mean_squared_error(y_train_pred, y_train, squared=False)\n",
    "print(f\"RMSE: {rmse}\") "
   ]
  },
  {
   "cell_type": "code",
   "execution_count": null,
   "id": "dd9381c9",
   "metadata": {},
   "outputs": [],
   "source": []
  },
  {
   "cell_type": "markdown",
   "id": "dcad151b",
   "metadata": {},
   "source": [
    "Q6. Evaluating the model\n",
    "\n",
    "Now let's apply this model to the validation dataset (February 2022).\n",
    "\n",
    "What's the RMSE on validation?\n",
    "\n",
    "- **7.79**\n",
    "- 12.79\n",
    "- 17.79\n",
    "- 22.79"
   ]
  },
  {
   "cell_type": "code",
   "execution_count": 24,
   "id": "a0915e5a",
   "metadata": {},
   "outputs": [],
   "source": [
    "df_feb = data_import(path_feb)"
   ]
  },
  {
   "cell_type": "code",
   "execution_count": 25,
   "id": "5e876fb4",
   "metadata": {},
   "outputs": [],
   "source": [
    "df_feb = compute_duration_mins(df_feb)"
   ]
  },
  {
   "cell_type": "code",
   "execution_count": 26,
   "id": "df08bff1",
   "metadata": {},
   "outputs": [],
   "source": [
    "df_feb_drop_outliers = drop_outliers(df_feb)"
   ]
  },
  {
   "cell_type": "code",
   "execution_count": 27,
   "id": "37b1a8b2",
   "metadata": {},
   "outputs": [],
   "source": [
    "y_val = df_feb_drop_outliers[\"duration\"].values"
   ]
  },
  {
   "cell_type": "code",
   "execution_count": 28,
   "id": "e692f287",
   "metadata": {},
   "outputs": [],
   "source": [
    "df_val_pickup_dropoff = select_transform_pickup_dropoff(df_feb_drop_outliers)"
   ]
  },
  {
   "cell_type": "code",
   "execution_count": 29,
   "id": "d2e25660",
   "metadata": {},
   "outputs": [],
   "source": [
    "df_val_dicts = df_val_pickup_dropoff.to_dict(orient='records')"
   ]
  },
  {
   "cell_type": "code",
   "execution_count": 30,
   "id": "19bc1803",
   "metadata": {},
   "outputs": [],
   "source": [
    "x_val = dv.transform(df_val_dicts)                        "
   ]
  },
  {
   "cell_type": "code",
   "execution_count": 31,
   "id": "cf1eb284",
   "metadata": {},
   "outputs": [],
   "source": [
    "y_val_pred = model.predict(x_val) "
   ]
  },
  {
   "cell_type": "code",
   "execution_count": 32,
   "id": "cd6aaf62",
   "metadata": {},
   "outputs": [
    {
     "name": "stdout",
     "output_type": "stream",
     "text": [
      "RMSE: 7.786409085078911\n"
     ]
    }
   ],
   "source": [
    "rmse = mean_squared_error(y_val_pred, y_val, squared=False)\n",
    "print(f\"RMSE: {rmse}\") \n",
    "                                         "
   ]
  },
  {
   "cell_type": "code",
   "execution_count": 33,
   "id": "b8f3230e",
   "metadata": {},
   "outputs": [
    {
     "data": {
      "text/plain": [
       "0.3480092704546819"
      ]
     },
     "execution_count": 33,
     "metadata": {},
     "output_type": "execute_result"
    }
   ],
   "source": [
    "model.score(x_val, y_val) "
   ]
  },
  {
   "cell_type": "code",
   "execution_count": null,
   "id": "c55184b2",
   "metadata": {},
   "outputs": [],
   "source": []
  },
  {
   "cell_type": "markdown",
   "id": "a1076a18",
   "metadata": {},
   "source": [
    "Submit the results\n",
    "\n",
    "    Submit your results here: https://forms.gle/uYTnWrcsubi2gdGV7\n",
    "    You can submit your solution multiple times. In this case, only the last submission will be used\n",
    "    If your answer doesn't match options exactly, select the closest one"
   ]
  },
  {
   "cell_type": "markdown",
   "id": "6610caee",
   "metadata": {},
   "source": [
    "Deadline\n",
    "\n",
    "The deadline for submitting is 23 May 2023 (Tuesday), 23:00 CEST (Berlin time).\n",
    "\n",
    "After that, the form will be closed."
   ]
  },
  {
   "cell_type": "code",
   "execution_count": null,
   "id": "0a295490",
   "metadata": {},
   "outputs": [],
   "source": []
  }
 ],
 "metadata": {
  "kernelspec": {
   "display_name": "Python 3 (ipykernel)",
   "language": "python",
   "name": "python3"
  },
  "language_info": {
   "codemirror_mode": {
    "name": "ipython",
    "version": 3
   },
   "file_extension": ".py",
   "mimetype": "text/x-python",
   "name": "python",
   "nbconvert_exporter": "python",
   "pygments_lexer": "ipython3",
   "version": "3.9.16"
  }
 },
 "nbformat": 4,
 "nbformat_minor": 5
}
